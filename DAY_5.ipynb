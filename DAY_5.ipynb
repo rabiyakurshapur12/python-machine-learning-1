{
  "nbformat": 4,
  "nbformat_minor": 0,
  "metadata": {
    "colab": {
      "provenance": []
    },
    "kernelspec": {
      "name": "python3",
      "display_name": "Python 3"
    },
    "language_info": {
      "name": "python"
    }
  },
  "cells": [
    {
      "cell_type": "markdown",
      "source": [],
      "metadata": {
        "id": "MtmRl8n6Xfce"
      }
    },
    {
      "cell_type": "markdown",
      "source": [
        "#  Visually Dummy Data"
      ],
      "metadata": {
        "id": "6Z8wPhXdXim9"
      }
    },
    {
      "cell_type": "markdown",
      "source": [
        "# Visualizing Dummy Data"
      ],
      "metadata": {
        "id": "-gBrX0tIYmE1"
      }
    },
    {
      "cell_type": "code",
      "source": [],
      "metadata": {
        "id": "zMGXzH1kXtB-"
      },
      "execution_count": null,
      "outputs": []
    },
    {
      "cell_type": "markdown",
      "source": [
        "Dummy Data"
      ],
      "metadata": {
        "id": "mMwmEZpRXtVd"
      }
    },
    {
      "cell_type": "code",
      "source": [
        "import numpy as np\n",
        "import matplotlib.pyplot as plt\n",
        "from sklearn.linear_model import LinearRegression\n",
        "from sklearn.preprocessing import PolynomialFeatures\n",
        "x=np.array([1,2,3,4,5]).reshape(-1,1)\n",
        "y=np.array([3,6,13,28,55])"
      ],
      "metadata": {
        "id": "Q0CSZeyDXwDV"
      },
      "execution_count": null,
      "outputs": []
    },
    {
      "cell_type": "markdown",
      "source": [
        "Linear Regression"
      ],
      "metadata": {
        "id": "TpS4pFduaZnG"
      }
    },
    {
      "cell_type": "code",
      "source": [
        "linear_model=LinearRegression()\n",
        "linear_model.fit(x,y)\n",
        "y_pred_linear=linear_model.predict(x)"
      ],
      "metadata": {
        "id": "oHJES3L1adbF"
      },
      "execution_count": null,
      "outputs": []
    },
    {
      "cell_type": "markdown",
      "source": [
        "Polynomial Regression (degree 2)\n"
      ],
      "metadata": {
        "id": "005LM7Y6auld"
      }
    },
    {
      "cell_type": "code",
      "source": [
        "poly=PolynomialFeatures(degree=2)\n",
        "x_poly=poly.fit_transform(x)\n",
        "poly_model=LinearRegression()\n",
        "poly_model.fit(x_poly,y)\n",
        "y_pred_poly=poly_model.predict(x_poly)"
      ],
      "metadata": {
        "id": "igT_yDKha1Hd"
      },
      "execution_count": null,
      "outputs": []
    },
    {
      "cell_type": "markdown",
      "source": [],
      "metadata": {
        "id": "bNLf-JBVccRW"
      }
    },
    {
      "cell_type": "markdown",
      "source": [
        "Plot"
      ],
      "metadata": {
        "id": "vJkAPztLc1D2"
      }
    },
    {
      "cell_type": "code",
      "source": [
        "plt.scatter(x,y,color='red',label='Actual')\n",
        "plt.plot(x,y_pred_linear,label='Linear Fit',color='blue')\n",
        "plt.plot(x,y_pred_poly,label='Polynomail Fit (deg=2)',color='green')\n",
        "plt.title(\"Linear vs Polynomial Fit (Dummy Data)\")\n",
        "plt.xlabel(\"x\")\n",
        "plt.ylabel(\"y\")\n",
        "plt.legend()\n",
        "plt.grid(True)\n",
        "plt.show"
      ],
      "metadata": {
        "colab": {
          "base_uri": "https://localhost:8080/",
          "height": 642
        },
        "id": "CCGyyLlzc2jW",
        "outputId": "3ea6e2cb-0266-485f-dfbc-fa8c62db27dc"
      },
      "execution_count": null,
      "outputs": [
        {
          "output_type": "execute_result",
          "data": {
            "text/plain": [
              "<function matplotlib.pyplot.show(close=None, block=None)>"
            ],
            "text/html": [
              "<div style=\"max-width:800px; border: 1px solid var(--colab-border-color);\"><style>\n",
              "      pre.function-repr-contents {\n",
              "        overflow-x: auto;\n",
              "        padding: 8px 12px;\n",
              "        max-height: 500px;\n",
              "      }\n",
              "\n",
              "      pre.function-repr-contents.function-repr-contents-collapsed {\n",
              "        cursor: pointer;\n",
              "        max-height: 100px;\n",
              "      }\n",
              "    </style>\n",
              "    <pre style=\"white-space: initial; background:\n",
              "         var(--colab-secondary-surface-color); padding: 8px 12px;\n",
              "         border-bottom: 1px solid var(--colab-border-color);\"><b>matplotlib.pyplot.show</b><br/>def show(*args, **kwargs) -&gt; None</pre><pre class=\"function-repr-contents function-repr-contents-collapsed\" style=\"\"><a class=\"filepath\" style=\"display:none\" href=\"#\">/usr/local/lib/python3.11/dist-packages/matplotlib/pyplot.py</a>Display all open figures.\n",
              "\n",
              "Parameters\n",
              "----------\n",
              "block : bool, optional\n",
              "    Whether to wait for all figures to be closed before returning.\n",
              "\n",
              "    If `True` block and run the GUI main loop until all figure windows\n",
              "    are closed.\n",
              "\n",
              "    If `False` ensure that all figure windows are displayed and return\n",
              "    immediately.  In this case, you are responsible for ensuring\n",
              "    that the event loop is running to have responsive figures.\n",
              "\n",
              "    Defaults to True in non-interactive mode and to False in interactive\n",
              "    mode (see `.pyplot.isinteractive`).\n",
              "\n",
              "See Also\n",
              "--------\n",
              "ion : Enable interactive mode, which shows / updates the figure after\n",
              "      every plotting command, so that calling ``show()`` is not necessary.\n",
              "ioff : Disable interactive mode.\n",
              "savefig : Save the figure to an image file instead of showing it on screen.\n",
              "\n",
              "Notes\n",
              "-----\n",
              "**Saving figures to file and showing a window at the same time**\n",
              "\n",
              "If you want an image file as well as a user interface window, use\n",
              "`.pyplot.savefig` before `.pyplot.show`. At the end of (a blocking)\n",
              "``show()`` the figure is closed and thus unregistered from pyplot. Calling\n",
              "`.pyplot.savefig` afterwards would save a new and thus empty figure. This\n",
              "limitation of command order does not apply if the show is non-blocking or\n",
              "if you keep a reference to the figure and use `.Figure.savefig`.\n",
              "\n",
              "**Auto-show in jupyter notebooks**\n",
              "\n",
              "The jupyter backends (activated via ``%matplotlib inline``,\n",
              "``%matplotlib notebook``, or ``%matplotlib widget``), call ``show()`` at\n",
              "the end of every cell by default. Thus, you usually don&#x27;t have to call it\n",
              "explicitly there.</pre>\n",
              "      <script>\n",
              "      if (google.colab.kernel.accessAllowed && google.colab.files && google.colab.files.view) {\n",
              "        for (const element of document.querySelectorAll('.filepath')) {\n",
              "          element.style.display = 'block'\n",
              "          element.onclick = (event) => {\n",
              "            event.preventDefault();\n",
              "            event.stopPropagation();\n",
              "            google.colab.files.view(element.textContent, 569);\n",
              "          };\n",
              "        }\n",
              "      }\n",
              "      for (const element of document.querySelectorAll('.function-repr-contents')) {\n",
              "        element.onclick = (event) => {\n",
              "          event.preventDefault();\n",
              "          event.stopPropagation();\n",
              "          element.classList.toggle('function-repr-contents-collapsed');\n",
              "        };\n",
              "      }\n",
              "      </script>\n",
              "      </div>"
            ]
          },
          "metadata": {},
          "execution_count": 89
        },
        {
          "output_type": "display_data",
          "data": {
            "text/plain": [
              "<Figure size 640x480 with 1 Axes>"
            ],
            "image/png": "[encoded data removed]"
          },
          "metadata": {}
        }
      ]
    },
    {
      "cell_type": "markdown",
      "source": [
        "real dataset  Salary prediction\n"
      ],
      "metadata": {
        "id": "mx3dcv-1fj-G"
      }
    },
    {
      "cell_type": "code",
      "source": [
        "import pandas as pd\n",
        "from sklearn.model_selection import train_test_split\n",
        "from sklearn.metrics import mean_squared_error,r2_score"
      ],
      "metadata": {
        "id": "KfkYuXcHhZ0m"
      },
      "execution_count": null,
      "outputs": []
    },
    {
      "cell_type": "code",
      "execution_count": null,
      "metadata": {
        "id": "xseBe8EfFW6x"
      },
      "outputs": [],
      "source": [
        "\n",
        "\n",
        "\n",
        "\n"
      ]
    },
    {
      "cell_type": "markdown",
      "source": [
        "# Load dataset"
      ],
      "metadata": {
        "id": "GcWJU1XAiKf-"
      }
    },
    {
      "cell_type": "code",
      "source": [
        "df=pd.read_csv(\"https://raw.githubusercontent.com/Naresh312143/mahalingpur-python-ml/refs/heads/main/Salary_Data.csv\")\n",
        "df.info()"
      ],
      "metadata": {
        "colab": {
          "base_uri": "https://localhost:8080/"
        },
        "id": "ZfXm4hJPiOZW",
        "outputId": "9b1a2efe-a429-4c77-c34e-773d6a9fe79e"
      },
      "execution_count": null,
      "outputs": [
        {
          "output_type": "stream",
          "name": "stdout",
          "text": [
            "<class 'pandas.core.frame.DataFrame'>\n",
            "RangeIndex: 6704 entries, 0 to 6703\n",
            "Data columns (total 2 columns):\n",
            " #   Column               Non-Null Count  Dtype  \n",
            "---  ------               --------------  -----  \n",
            " 0   Years of Experience  6701 non-null   float64\n",
            " 1   Salary               6699 non-null   float64\n",
            "dtypes: float64(2)\n",
            "memory usage: 104.9 KB\n"
          ]
        }
      ]
    },
    {
      "cell_type": "code",
      "source": [
        "df.isnull().sum()"
      ],
      "metadata": {
        "colab": {
          "base_uri": "https://localhost:8080/",
          "height": 147
        },
        "id": "sDgAtBCujj5W",
        "outputId": "e534176b-58f8-4de8-9273-6e0ad47711ee"
      },
      "execution_count": null,
      "outputs": [
        {
          "output_type": "execute_result",
          "data": {
            "text/plain": [
              "Years of Experience    3\n",
              "Salary                 5\n",
              "dtype: int64"
            ],
            "text/html": [
              "<div>\n",
              "<style scoped>\n",
              "    .dataframe tbody tr th:only-of-type {\n",
              "        vertical-align: middle;\n",
              "    }\n",
              "\n",
              "    .dataframe tbody tr th {\n",
              "        vertical-align: top;\n",
              "    }\n",
              "\n",
              "    .dataframe thead th {\n",
              "        text-align: right;\n",
              "    }\n",
              "</style>\n",
              "<table border=\"1\" class=\"dataframe\">\n",
              "  <thead>\n",
              "    <tr style=\"text-align: right;\">\n",
              "      <th></th>\n",
              "      <th>0</th>\n",
              "    </tr>\n",
              "  </thead>\n",
              "  <tbody>\n",
              "    <tr>\n",
              "      <th>Years of Experience</th>\n",
              "      <td>3</td>\n",
              "    </tr>\n",
              "    <tr>\n",
              "      <th>Salary</th>\n",
              "      <td>5</td>\n",
              "    </tr>\n",
              "  </tbody>\n",
              "</table>\n",
              "</div><br><label><b>dtype:</b> int64</label>"
            ]
          },
          "metadata": {},
          "execution_count": 92
        }
      ]
    },
    {
      "cell_type": "markdown",
      "source": [],
      "metadata": {
        "id": "RGRa2m9ijGHW"
      }
    },
    {
      "cell_type": "code",
      "source": [
        "df.dropna(inplace=True)\n",
        "df.isnull().sum()"
      ],
      "metadata": {
        "colab": {
          "base_uri": "https://localhost:8080/",
          "height": 147
        },
        "id": "ImwVMbKcjpDN",
        "outputId": "aa52ecbd-cd23-4fa3-8229-97e86b777c18"
      },
      "execution_count": null,
      "outputs": [
        {
          "output_type": "execute_result",
          "data": {
            "text/plain": [
              "Years of Experience    0\n",
              "Salary                 0\n",
              "dtype: int64"
            ],
            "text/html": [
              "<div>\n",
              "<style scoped>\n",
              "    .dataframe tbody tr th:only-of-type {\n",
              "        vertical-align: middle;\n",
              "    }\n",
              "\n",
              "    .dataframe tbody tr th {\n",
              "        vertical-align: top;\n",
              "    }\n",
              "\n",
              "    .dataframe thead th {\n",
              "        text-align: right;\n",
              "    }\n",
              "</style>\n",
              "<table border=\"1\" class=\"dataframe\">\n",
              "  <thead>\n",
              "    <tr style=\"text-align: right;\">\n",
              "      <th></th>\n",
              "      <th>0</th>\n",
              "    </tr>\n",
              "  </thead>\n",
              "  <tbody>\n",
              "    <tr>\n",
              "      <th>Years of Experience</th>\n",
              "      <td>0</td>\n",
              "    </tr>\n",
              "    <tr>\n",
              "      <th>Salary</th>\n",
              "      <td>0</td>\n",
              "    </tr>\n",
              "  </tbody>\n",
              "</table>\n",
              "</div><br><label><b>dtype:</b> int64</label>"
            ]
          },
          "metadata": {},
          "execution_count": 93
        }
      ]
    },
    {
      "cell_type": "markdown",
      "source": [
        "Train-test splir"
      ],
      "metadata": {
        "id": "FXsTE1LBkjdN"
      }
    },
    {
      "cell_type": "code",
      "source": [
        "x=df[[\"Years of Experience\"]]\n",
        "y=df[\"Salary\"]\n",
        "x_train,x_test,y_train,y_test=train_test_split(\n",
        "    x,\n",
        "    y,\n",
        "    test_size=0.2,\n",
        "    random_state=42)\n"
      ],
      "metadata": {
        "id": "JTRotPB6kl62"
      },
      "execution_count": null,
      "outputs": []
    },
    {
      "cell_type": "markdown",
      "source": [
        "linear regression"
      ],
      "metadata": {
        "id": "ltTABYgJlwyn"
      }
    },
    {
      "cell_type": "markdown",
      "source": [
        "# TRain linear regression"
      ],
      "metadata": {
        "id": "pbHarinil0Pm"
      }
    },
    {
      "cell_type": "code",
      "source": [
        "lin_model=LinearRegression()\n",
        "lin_model.fit(x_train,y_train)\n",
        "y_pred_lin=lin_model.predict(x_test)"
      ],
      "metadata": {
        "id": "ibQGrqPal4Qe"
      },
      "execution_count": null,
      "outputs": []
    },
    {
      "cell_type": "markdown",
      "source": [
        "metrics"
      ],
      "metadata": {
        "id": "RR3QAEnemL8m"
      }
    },
    {
      "cell_type": "code",
      "source": [
        "mse_lin=mean_squared_error(y_test,y_pred_lin)\n",
        "rmse_lin=np.sqrt(mse_lin)\n",
        "r2_lin=r2_score(y_test,y_pred_lin)\n",
        "print(\"Linear Regression:\")\n",
        "print(\"MSE:\",mse_lin)\n",
        "print(\"RMSE:\",rmse_lin)\n",
        "print(\"R2 score:\",r2_lin)"
      ],
      "metadata": {
        "colab": {
          "base_uri": "https://localhost:8080/"
        },
        "id": "hAlhtBnOmNtf",
        "outputId": "ba290661-f3bf-4f8c-c38c-3292104253d0"
      },
      "execution_count": null,
      "outputs": [
        {
          "output_type": "stream",
          "name": "stdout",
          "text": [
            "Linear Regression:\n",
            "MSE: 946833177.7094355\n",
            "RMSE: 30770.654489455297\n",
            "R2 score: 0.6669549610495003\n"
          ]
        }
      ]
    },
    {
      "cell_type": "markdown",
      "source": [],
      "metadata": {
        "id": "_cXpeVlkGiwn"
      }
    },
    {
      "cell_type": "markdown",
      "source": [
        "polynomail Regression"
      ],
      "metadata": {
        "id": "PyQFruxQLBXm"
      }
    },
    {
      "cell_type": "markdown",
      "source": [
        "# DEgree 2"
      ],
      "metadata": {
        "id": "tI5ZOubiLEev"
      }
    },
    {
      "cell_type": "code",
      "source": [],
      "metadata": {
        "id": "MWU6pOkdJmDX"
      },
      "execution_count": null,
      "outputs": []
    },
    {
      "cell_type": "code",
      "source": [
        "poly2=PolynomialFeatures(degree=2)\n",
        "x_train_poly2=poly2.fit_transform(x_train)\n",
        "x_test_poly2=poly2.transform(x_test)\n",
        "\n",
        "poly2_model=LinearRegression()\n",
        "poly2_model.fit(x_train_poly2,y_train)\n",
        "y_pred_poly2=poly2_model.predict(x_test_poly2)"
      ],
      "metadata": {
        "id": "0unv01_CLI3H"
      },
      "execution_count": null,
      "outputs": []
    },
    {
      "cell_type": "code",
      "source": [
        "x_train_poly2"
      ],
      "metadata": {
        "colab": {
          "base_uri": "https://localhost:8080/"
        },
        "id": "Bdp3RcK1Q5Qn",
        "outputId": "20ce13d7-0f13-48c1-e99b-42d06588c3ac"
      },
      "execution_count": null,
      "outputs": [
        {
          "output_type": "execute_result",
          "data": {
            "text/plain": [
              "array([[  1.,   3.,   9.],\n",
              "       [  1.,   6.,  36.],\n",
              "       [  1.,  10., 100.],\n",
              "       ...,\n",
              "       [  1.,   7.,  49.],\n",
              "       [  1.,   8.,  64.],\n",
              "       [  1.,   2.,   4.]])"
            ]
          },
          "metadata": {},
          "execution_count": 98
        }
      ]
    },
    {
      "cell_type": "code",
      "source": [
        "x_test_poly2"
      ],
      "metadata": {
        "colab": {
          "base_uri": "https://localhost:8080/"
        },
        "id": "u4ceKd-5Q_Yu",
        "outputId": "1eb06239-c19c-45dc-aa0a-4f987c8b8b7e"
      },
      "execution_count": null,
      "outputs": [
        {
          "output_type": "execute_result",
          "data": {
            "text/plain": [
              "array([[ 1.,  2.,  4.],\n",
              "       [ 1.,  8., 64.],\n",
              "       [ 1.,  3.,  9.],\n",
              "       ...,\n",
              "       [ 1.,  1.,  1.],\n",
              "       [ 1.,  3.,  9.],\n",
              "       [ 1.,  0.,  0.]])"
            ]
          },
          "metadata": {},
          "execution_count": 99
        }
      ]
    },
    {
      "cell_type": "markdown",
      "source": [
        "# Metrics"
      ],
      "metadata": {
        "id": "avs1cohzRC4f"
      }
    },
    {
      "cell_type": "code",
      "source": [
        "mse_poly2=mean_squared_error(y_test,y_pred_poly2)\n",
        "rmse_poly2=np.sqrt(mse_poly2)\n",
        "r2_poly2=r2_score(y_test,y_pred_poly2)"
      ],
      "metadata": {
        "id": "16Fc6tIPRFG3"
      },
      "execution_count": null,
      "outputs": []
    },
    {
      "cell_type": "markdown",
      "source": [
        "# DEGREE4"
      ],
      "metadata": {
        "id": "HjJm14EiRhOn"
      }
    },
    {
      "cell_type": "code",
      "source": [
        "poly4=PolynomialFeatures(degree=4)\n",
        "x_train_poly4=poly4.fit_transform(x_train)\n",
        "x_test_poly4=poly4.transform(x_test)\n",
        "\n",
        "\n",
        "poly4_model=LinearRegression()\n",
        "poly4_model.fit(x_train_poly4,y_train)\n",
        "y_pred_poly4=poly4_model.predict(x_test_poly4)"
      ],
      "metadata": {
        "id": "WiwKzMyVRj6X"
      },
      "execution_count": null,
      "outputs": []
    },
    {
      "cell_type": "code",
      "source": [
        "x_train_poly4"
      ],
      "metadata": {
        "colab": {
          "base_uri": "https://localhost:8080/"
        },
        "id": "aR-nM_ciSayf",
        "outputId": "ba803838-7af2-4d13-dcb9-ca62a1dae86a"
      },
      "execution_count": null,
      "outputs": [
        {
          "output_type": "execute_result",
          "data": {
            "text/plain": [
              "array([[1.000e+00, 3.000e+00, 9.000e+00, 2.700e+01, 8.100e+01],\n",
              "       [1.000e+00, 6.000e+00, 3.600e+01, 2.160e+02, 1.296e+03],\n",
              "       [1.000e+00, 1.000e+01, 1.000e+02, 1.000e+03, 1.000e+04],\n",
              "       ...,\n",
              "       [1.000e+00, 7.000e+00, 4.900e+01, 3.430e+02, 2.401e+03],\n",
              "       [1.000e+00, 8.000e+00, 6.400e+01, 5.120e+02, 4.096e+03],\n",
              "       [1.000e+00, 2.000e+00, 4.000e+00, 8.000e+00, 1.600e+01]])"
            ]
          },
          "metadata": {},
          "execution_count": 102
        }
      ]
    },
    {
      "cell_type": "code",
      "source": [
        "x_test_poly4"
      ],
      "metadata": {
        "colab": {
          "base_uri": "https://localhost:8080/"
        },
        "id": "J9GQCcU2S1x3",
        "outputId": "df600966-fd02-410a-c2c5-d2d3d8a99697"
      },
      "execution_count": null,
      "outputs": [
        {
          "output_type": "execute_result",
          "data": {
            "text/plain": [
              "array([[1.000e+00, 2.000e+00, 4.000e+00, 8.000e+00, 1.600e+01],\n",
              "       [1.000e+00, 8.000e+00, 6.400e+01, 5.120e+02, 4.096e+03],\n",
              "       [1.000e+00, 3.000e+00, 9.000e+00, 2.700e+01, 8.100e+01],\n",
              "       ...,\n",
              "       [1.000e+00, 1.000e+00, 1.000e+00, 1.000e+00, 1.000e+00],\n",
              "       [1.000e+00, 3.000e+00, 9.000e+00, 2.700e+01, 8.100e+01],\n",
              "       [1.000e+00, 0.000e+00, 0.000e+00, 0.000e+00, 0.000e+00]])"
            ]
          },
          "metadata": {},
          "execution_count": 103
        }
      ]
    },
    {
      "cell_type": "markdown",
      "source": [
        "metrics"
      ],
      "metadata": {
        "id": "pNdI1143S5vG"
      }
    },
    {
      "cell_type": "code",
      "source": [
        "mse_poly4=mean_squared_error(y_test,y_pred_poly4)\n",
        "rmse_poly4=np.sqrt(mse_poly4)\n",
        "r2_poly4=r2_score(y_test,y_pred_poly4)\n",
        "\n",
        "\n",
        "print(\"\\n Polynomial Regression (Degree 2):\")\n",
        "print(\"MSE:\",mse_poly2)\n",
        "print(\"RMSE:\",rmse_poly2)\n",
        "print(\"R2 score:\",r2_poly2)\n",
        "\n",
        "\n",
        "print(\"\\nPolynomial Regression (Degree 4):\")\n",
        "print(\"MSE:\",mse_poly4)\n",
        "print(\"RMSE:\",rmse_poly4)\n",
        "print(\"R2 score:\",r2_poly4)"
      ],
      "metadata": {
        "colab": {
          "base_uri": "https://localhost:8080/"
        },
        "id": "qp0dzhiHS7tv",
        "outputId": "4aa46ee8-bbe7-4c94-ab47-c8b47beeae4a"
      },
      "execution_count": null,
      "outputs": [
        {
          "output_type": "stream",
          "name": "stdout",
          "text": [
            "\n",
            " Polynomial Regression (Degree 2):\n",
            "MSE: 726857249.7211918\n",
            "RMSE: 26960.290238074067\n",
            "R2 score: 0.7443306732971963\n",
            "\n",
            "Polynomial Regression (Degree 4):\n",
            "MSE: 720033651.6859531\n",
            "RMSE: 26833.44278481524\n",
            "R2 score: 0.7467308484568018\n"
          ]
        }
      ]
    },
    {
      "cell_type": "markdown",
      "source": [
        "visualization of all models"
      ],
      "metadata": {
        "id": "CSF71IVBUQgn"
      }
    },
    {
      "cell_type": "code",
      "source": [
        "x_range=np.linspace(x.min(),x.max(),100).reshape(-1,1)\n",
        "\n",
        "x_range_df=pd.DataFrame(x_range,columns=['Years of Experience'])\n",
        "\n",
        "x_range_poly2=poly2.transform(x_range_df)\n",
        "x_range_poly4=poly4.transform(x_range_df)\n",
        "\n",
        "\n",
        "y_range_lin=lin_model.predict(x_range_df)\n",
        "y_range_poly2=poly2_model.predict(x_range_poly2)\n",
        "y_range_poly4=poly4_model.predict(x_range_poly4)\n",
        "\n",
        "\n",
        "plt.scatter(x,y,color='red',label='Actual Data')\n",
        "plt.plot(x_range,y_range_lin,label='Linear Model',color='blue')\n",
        "plt.plot(x_range,y_range_poly2, label='Polynomial Degree 2',color='purple')\n",
        "plt.plot(x_range,y_range_poly4, label='Polynomial Degree 4',color='green')\n",
        "plt.xlabel(\"Years of Experience\")\n",
        "plt.ylabel(\"Salary\")\n",
        "plt.title(\"Model Comparison\")\n",
        "plt.legend()\n",
        "plt.grid(True)\n",
        "plt.show()\n",
        "\n"
      ],
      "metadata": {
        "colab": {
          "base_uri": "https://localhost:8080/",
          "height": 472
        },
        "id": "VqiKe-mGUVNm",
        "outputId": "a0ba9a05-5cf7-4eeb-fe40-4e34f0961282"
      },
      "execution_count": null,
      "outputs": [
        {
          "output_type": "display_data",
          "data": {
            "text/plain": [
              "<Figure size 640x480 with 1 Axes>"
            ],
            "image/png": "[encoded data removed]"
          },
          "metadata": {}
        }
      ]
    },
    {
      "cell_type": "markdown",
      "source": [
        "# Plot"
      ],
      "metadata": {
        "id": "kk51Q4b6WXn_"
      }
    },
    {
      "cell_type": "code",
      "source": [
        "plt.sctter(x,y,color='red',label='Actual Data')\n",
        "plt.plot(x_range,y_range_lin,label='Linear Model',color='blue')\n",
        "plt.plot(x_range,y_range_poly2,label='Polynomial Degree 2',color='purple')\n",
        "plt.plot(x_range,y_range_poly4,label='Polynomial Degree 4',color='green')\n",
        "plt.xlabel(\"Years of Experience\")\n",
        "plt.ylabel(\"Salary\")\n",
        "plt.title(\"Model Comparison\")\n",
        "plt.legend()\n",
        "plt.grid(True)\n",
        "plt.show()\n",
        "\n",
        "\n"
      ],
      "metadata": {
        "id": "LADav5k7WZnf"
      },
      "execution_count": null,
      "outputs": []
    },
    {
      "cell_type": "markdown",
      "source": [
        "model performance comparison"
      ],
      "metadata": {
        "id": "lkED1C6tYtUP"
      }
    },
    {
      "cell_type": "code",
      "source": [
        "metrics_df=pd.DataFrame({\n",
        "    \"Model\": [\"Linear Regression\",\"Polynomial (Degree 2)\", \"Polynomial (Degree 4)\"],\n",
        "    \"MSE\": [mse_lin,mse_poly2,mse_poly4],\n",
        "    \"RMSE\": [rmse_lin,rmse_poly2,rmse_poly4],\n",
        "    \"R2 Score\": [r2_lin,r2_poly2,r2_poly4]\n",
        "})\n",
        "\n",
        "metrics_df.style.format({\n",
        "    \"MSE\": \"{:.2f}\",\n",
        "    \"RMSE\": \"{:.2f}\",\n",
        "    \"R2\": \"{:.4f}\"\n",
        "})"
      ],
      "metadata": {
        "colab": {
          "base_uri": "https://localhost:8080/",
          "height": 143
        },
        "id": "1s60jIS6Yxhe",
        "outputId": "51bc975a-db5c-4971-9e26-4061be308eaf"
      },
      "execution_count": null,
      "outputs": [
        {
          "output_type": "execute_result",
          "data": {
            "text/plain": [
              "<pandas.io.formats.style.Styler at 0x7bcdd0c57590>"
            ],
            "text/html": [
              "<style type=\"text/css\">\n",
              "</style>\n",
              "<table id=\"T_52f52\" class=\"dataframe\">\n",
              "  <thead>\n",
              "    <tr>\n",
              "      <th class=\"blank level0\" >&nbsp;</th>\n",
              "      <th id=\"T_52f52_level0_col0\" class=\"col_heading level0 col0\" >Model</th>\n",
              "      <th id=\"T_52f52_level0_col1\" class=\"col_heading level0 col1\" >MSE</th>\n",
              "      <th id=\"T_52f52_level0_col2\" class=\"col_heading level0 col2\" >RMSE</th>\n",
              "      <th id=\"T_52f52_level0_col3\" class=\"col_heading level0 col3\" >R2 Score</th>\n",
              "    </tr>\n",
              "  </thead>\n",
              "  <tbody>\n",
              "    <tr>\n",
              "      <th id=\"T_52f52_level0_row0\" class=\"row_heading level0 row0\" >0</th>\n",
              "      <td id=\"T_52f52_row0_col0\" class=\"data row0 col0\" >Linear Regression</td>\n",
              "      <td id=\"T_52f52_row0_col1\" class=\"data row0 col1\" >946833177.71</td>\n",
              "      <td id=\"T_52f52_row0_col2\" class=\"data row0 col2\" >30770.65</td>\n",
              "      <td id=\"T_52f52_row0_col3\" class=\"data row0 col3\" >0.666955</td>\n",
              "    </tr>\n",
              "    <tr>\n",
              "      <th id=\"T_52f52_level0_row1\" class=\"row_heading level0 row1\" >1</th>\n",
              "      <td id=\"T_52f52_row1_col0\" class=\"data row1 col0\" >Polynomial (Degree 2)</td>\n",
              "      <td id=\"T_52f52_row1_col1\" class=\"data row1 col1\" >726857249.72</td>\n",
              "      <td id=\"T_52f52_row1_col2\" class=\"data row1 col2\" >26960.29</td>\n",
              "      <td id=\"T_52f52_row1_col3\" class=\"data row1 col3\" >0.744331</td>\n",
              "    </tr>\n",
              "    <tr>\n",
              "      <th id=\"T_52f52_level0_row2\" class=\"row_heading level0 row2\" >2</th>\n",
              "      <td id=\"T_52f52_row2_col0\" class=\"data row2 col0\" >Polynomial (Degree 4)</td>\n",
              "      <td id=\"T_52f52_row2_col1\" class=\"data row2 col1\" >720033651.69</td>\n",
              "      <td id=\"T_52f52_row2_col2\" class=\"data row2 col2\" >26833.44</td>\n",
              "      <td id=\"T_52f52_row2_col3\" class=\"data row2 col3\" >0.746731</td>\n",
              "    </tr>\n",
              "  </tbody>\n",
              "</table>\n"
            ]
          },
          "metadata": {},
          "execution_count": 107
        }
      ]
    },
    {
      "cell_type": "markdown",
      "source": [
        "FINAL NOTES"
      ],
      "metadata": {
        "id": "MqhPSlPwd0kO"
      }
    },
    {
      "cell_type": "code",
      "source": [],
      "metadata": {
        "id": "PZPdrvy7d273"
      },
      "execution_count": null,
      "outputs": []
    }
  ]
}