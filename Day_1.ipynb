{
  "nbformat": 4,
  "nbformat_minor": 0,
  "metadata": {
    "colab": {
      "provenance": []
    },
    "kernelspec": {
      "name": "python3",
      "display_name": "Python 3"
    },
    "language_info": {
      "name": "python"
    }
  },
  "cells": [
    {
      "cell_type": "code",
      "source": [
        "p=Truex and structure"
      ],
      "metadata": {
        "id": "ODVgkktZoCJ8"
      },
      "execution_count": null,
      "outputs": []
    },
    {
      "cell_type": "markdown",
      "source": [
        "python syntax and structure"
      ],
      "metadata": {
        "id": "F9THhHYCoHJI"
      }
    },
    {
      "cell_type": "code",
      "source": [
        "print(\"hello,world\")\n",
        "x=10\n",
        "y=5"
      ],
      "metadata": {
        "colab": {
          "base_uri": "https://localhost:8080/"
        },
        "id": "IX0aDPzgoMAZ",
        "outputId": "1aefbdee-cbee-4db9-a315-3ed259644df1"
      },
      "execution_count": null,
      "outputs": [
        {
          "output_type": "stream",
          "name": "stdout",
          "text": [
            "hello,world\n"
          ]
        }
      ]
    },
    {
      "cell_type": "code",
      "source": [],
      "metadata": {
        "id": "zNXxmubLoFfh"
      },
      "execution_count": null,
      "outputs": []
    },
    {
      "cell_type": "markdown",
      "source": [
        "python is case sensitive"
      ],
      "metadata": {
        "id": "XSuq3FfUoY1Q"
      }
    },
    {
      "cell_type": "code",
      "source": [
        "name=\"rabi\"\n",
        "Name=\"rabu\""
      ],
      "metadata": {
        "id": "BWesrGAXoc5h"
      },
      "execution_count": null,
      "outputs": []
    },
    {
      "cell_type": "markdown",
      "source": [
        "indentation matters"
      ],
      "metadata": {
        "id": "fTPlfLLtokYB"
      }
    },
    {
      "cell_type": "code",
      "source": [
        "if x > 0:\n",
        "  print(\" x is positive\")\n",
        "  print(\"inside if block\")\n"
      ],
      "metadata": {
        "colab": {
          "base_uri": "https://localhost:8080/"
        },
        "id": "UDxkUezBoobY",
        "outputId": "256db1fc-7231-441a-a851-4f0090421824"
      },
      "execution_count": null,
      "outputs": [
        {
          "output_type": "stream",
          "name": "stdout",
          "text": [
            " x is positive\n",
            "inside if block\n"
          ]
        }
      ]
    },
    {
      "cell_type": "markdown",
      "source": [],
      "metadata": {
        "id": "hP8_HpV7oAna"
      }
    },
    {
      "cell_type": "markdown",
      "source": [
        "variables and data types"
      ],
      "metadata": {
        "id": "gn_JepCBo4wA"
      }
    },
    {
      "cell_type": "code",
      "execution_count": null,
      "metadata": {
        "id": "x5sJTUNM5ZL8"
      },
      "outputs": [],
      "source": []
    },
    {
      "cell_type": "code",
      "source": [],
      "metadata": {
        "id": "qO_CylMUpB9o"
      },
      "execution_count": null,
      "outputs": []
    },
    {
      "cell_type": "code",
      "source": [],
      "metadata": {
        "id": "ABnfacX8pDD4"
      },
      "execution_count": null,
      "outputs": []
    },
    {
      "cell_type": "code",
      "source": [
        "# numeric types"
      ],
      "metadata": {
        "id": "kDSNbtoVo9dg"
      },
      "execution_count": null,
      "outputs": []
    },
    {
      "cell_type": "code",
      "source": [
        "age = 25\n",
        "height = 2.0\n",
        "complex_num = 2+3j"
      ],
      "metadata": {
        "id": "AJo0fY57pD14"
      },
      "execution_count": null,
      "outputs": []
    },
    {
      "cell_type": "markdown",
      "source": [
        "# boolean type"
      ],
      "metadata": {
        "id": "QyltqzZ8pP5o"
      }
    },
    {
      "cell_type": "code",
      "source": [
        "is_active = True\n",
        "is_finished =False"
      ],
      "metadata": {
        "id": "L1qSq9FEpTRg"
      },
      "execution_count": null,
      "outputs": []
    },
    {
      "cell_type": "markdown",
      "source": [
        "string"
      ],
      "metadata": {
        "id": "oMto2rl7pdqw"
      }
    },
    {
      "cell_type": "code",
      "source": [
        "name =\"rabiya\"\n",
        "message = \"hello world\"\n",
        "multiline = \"\"\"this is multiline comment\"\"\""
      ],
      "metadata": {
        "id": "NhIMypeNykN-"
      },
      "execution_count": null,
      "outputs": []
    },
    {
      "cell_type": "markdown",
      "source": [
        "type checking"
      ],
      "metadata": {
        "id": "RbFZ37rbzKlm"
      }
    },
    {
      "cell_type": "code",
      "source": [
        "print(type(age))\n",
        "print(type(height))"
      ],
      "metadata": {
        "colab": {
          "base_uri": "https://localhost:8080/",
          "height": 159
        },
        "id": "J8vECTUhzOYW",
        "outputId": "d238da94-dceb-4bf8-9cb5-d2559d4a7926"
      },
      "execution_count": null,
      "outputs": [
        {
          "output_type": "error",
          "ename": "NameError",
          "evalue": "name 'age' is not defined",
          "traceback": [
            "\u001b[0;31m---------------------------------------------------------------------------\u001b[0m",
            "\u001b[0;31mNameError\u001b[0m                                 Traceback (most recent call last)",
            "\u001b[0;32m/tmp/ipython-input-1735550394.py\u001b[0m in \u001b[0;36m<cell line: 0>\u001b[0;34m()\u001b[0m\n\u001b[0;32m----> 1\u001b[0;31m \u001b[0mprint\u001b[0m\u001b[0;34m(\u001b[0m\u001b[0mtype\u001b[0m\u001b[0;34m(\u001b[0m\u001b[0mage\u001b[0m\u001b[0;34m)\u001b[0m\u001b[0;34m)\u001b[0m\u001b[0;34m\u001b[0m\u001b[0;34m\u001b[0m\u001b[0m\n\u001b[0m\u001b[1;32m      2\u001b[0m \u001b[0mprint\u001b[0m\u001b[0;34m(\u001b[0m\u001b[0mtype\u001b[0m\u001b[0;34m(\u001b[0m\u001b[0mheight\u001b[0m\u001b[0;34m)\u001b[0m\u001b[0;34m)\u001b[0m\u001b[0;34m\u001b[0m\u001b[0;34m\u001b[0m\u001b[0m\n",
            "\u001b[0;31mNameError\u001b[0m: name 'age' is not defined"
          ]
        }
      ]
    },
    {
      "cell_type": "markdown",
      "source": [
        "type conversion"
      ],
      "metadata": {
        "id": "af3AFHouzinu"
      }
    },
    {
      "cell_type": "code",
      "source": [
        "str_number = \"123\"\n",
        "int_number = int(str_number)\n",
        "float_number = float(str_number)\n",
        "print(f\"Original: ({str_number} (type: {type(str_number)})\")\n",
        "print(f\"Integer: ({str_number} (type: {type(int_number)})\")\n",
        "print(f\"Float: ({str_number} (type: {type(float_number)})\")\n",
        "\n"
      ],
      "metadata": {
        "colab": {
          "base_uri": "https://localhost:8080/"
        },
        "id": "2yNJ8ZSjznQu",
        "outputId": "0a63db7f-c526-4cbe-b7e8-94a0d318e97f"
      },
      "execution_count": null,
      "outputs": [
        {
          "output_type": "stream",
          "name": "stdout",
          "text": [
            "Original: (123 (type: <class 'str'>)\n",
            "Integer: (123 (type: <class 'int'>)\n",
            "Float: (123 (type: <class 'float'>)\n"
          ]
        }
      ]
    },
    {
      "cell_type": "markdown",
      "source": [
        "personal information"
      ],
      "metadata": {
        "id": "AvQ-9ei605S3"
      }
    },
    {
      "cell_type": "code",
      "source": [],
      "metadata": {
        "id": "5vQ-QVDy09K2"
      },
      "execution_count": null,
      "outputs": []
    },
    {
      "cell_type": "markdown",
      "source": [
        "create variables for personal information"
      ],
      "metadata": {
        "id": "Vw-xkKHr09ld"
      }
    },
    {
      "cell_type": "code",
      "source": [
        "first_name =\"rabi\"\n",
        "last_name = \"rubi\"\n",
        "age = 20\n",
        "height = 5.8\n",
        "is_student = True"
      ],
      "metadata": {
        "id": "ZsgGuhah1DHm"
      },
      "execution_count": null,
      "outputs": []
    },
    {
      "cell_type": "markdown",
      "source": [
        "print formatted information"
      ],
      "metadata": {
        "id": "VbvTB8EF1ad2"
      }
    },
    {
      "cell_type": "code",
      "source": [
        "print(f\"Name: {first_name} {last_name}\")\n",
        "print(f\"age: {age}\")\n",
        "substraction:print(f\"height: {height} feet\")\n",
        "print(f\"student: {is_student}\" )"
      ],
      "metadata": {
        "colab": {
          "base_uri": "https://localhost:8080/"
        },
        "id": "hhFOai6G1dc2",
        "outputId": "8b427c93-36c2-4325-9a20-7a419fd50e35"
      },
      "execution_count": null,
      "outputs": [
        {
          "output_type": "stream",
          "name": "stdout",
          "text": [
            "Name: rabi rubi\n",
            "age: 20\n",
            "height: 5.8 feet\n",
            "student: True\n"
          ]
        }
      ]
    },
    {
      "cell_type": "markdown",
      "source": [
        "age_str = str(age)\n",
        "height_int = int(height)\n",
        "print(f\"age as string: {height_int}\")"
      ],
      "metadata": {
        "id": "DNrcw_dB2AV3"
      }
    },
    {
      "cell_type": "code",
      "source": [
        "age_str = str(age)\n",
        "height_int = int(height)\n",
        "print(f\"age as string: {height_int}\")"
      ],
      "metadata": {
        "colab": {
          "base_uri": "https://localhost:8080/"
        },
        "id": "VUXVg2n82dwW",
        "outputId": "e204488b-084d-444e-bc9a-051231c3a35c"
      },
      "execution_count": null,
      "outputs": [
        {
          "output_type": "stream",
          "name": "stdout",
          "text": [
            "age as string: 5\n"
          ]
        }
      ]
    },
    {
      "cell_type": "markdown",
      "source": [
        "operators and basic operations"
      ],
      "metadata": {
        "id": "0JkwcBfC2gK2"
      }
    },
    {
      "cell_type": "code",
      "source": [
        "a= 10\n",
        "b = 20\n",
        "print(f\"Addition: {a}+{b}={a+b}\")\n",
        "print(f\"substraction: {a}-{b}={a-b}\")\n",
        "print(f\"multiplication: {a}*{b}={a*b}\")\n",
        "print(f\"division: {a}/{b}={a/b}\")\n",
        "print(f\"modulus: {a}%{b}={a%b}\")\n",
        "\n",
        "\n",
        "\n"
      ],
      "metadata": {
        "colab": {
          "base_uri": "https://localhost:8080/"
        },
        "id": "mTFxzDhC2k-f",
        "outputId": "af0e06a4-0016-4c15-a763-d858eda7b7f6"
      },
      "execution_count": null,
      "outputs": [
        {
          "output_type": "stream",
          "name": "stdout",
          "text": [
            "Addition: 10+20=30\n",
            "substraction: 10-20=-10\n",
            "multiplication: 10*20=200\n",
            "division: 10/20=0.5\n",
            "modulus: 10%20=10\n"
          ]
        }
      ]
    },
    {
      "cell_type": "markdown",
      "source": [],
      "metadata": {
        "id": "BvJisSVQ3L8-"
      }
    },
    {
      "cell_type": "markdown",
      "source": [
        "order of operation\n",
        "- p-parentheses\n",
        "- E-exponents\n",
        "- M-multiplication\n",
        "- D-division\n",
        "- A-addition\n",
        "- S-substraction\n"
      ],
      "metadata": {
        "id": "51OiiwZ-33Be"
      }
    },
    {
      "cell_type": "code",
      "source": [
        "result = 2+3*4**2-1\n",
        "print(f\"2+3*4**2-1={result}\")"
      ],
      "metadata": {
        "colab": {
          "base_uri": "https://localhost:8080/"
        },
        "id": "G7VJQ6Jn4Wtm",
        "outputId": "fd8896ec-c6f5-4777-f635-e6e8760a7c0c"
      },
      "execution_count": null,
      "outputs": [
        {
          "output_type": "stream",
          "name": "stdout",
          "text": [
            "2+3*4**2-1=49\n"
          ]
        }
      ]
    },
    {
      "cell_type": "markdown",
      "source": [
        "comparison operator"
      ],
      "metadata": {
        "id": "fDQtcCGk4oav"
      }
    },
    {
      "cell_type": "code",
      "source": [
        "x=5\n",
        "y=10\n",
        "print(f\"{x}=={y}: {x==y}\")\n",
        "\n",
        "print(f\"{x}!={y}:{x!=y}\")\n",
        "print(f\"{x}>{y}:{x>y}\")\n",
        "print(f\"{x}<{y}:{x<y}\")\n",
        "print(f\"{x}<={y}:{x<=y}\")\n",
        "print(f\"{x}>={y}:{x>=y}\")"
      ],
      "metadata": {
        "colab": {
          "base_uri": "https://localhost:8080/"
        },
        "id": "l74TQpVK4rg3",
        "outputId": "38826cc9-bf0f-46a9-e472-6fc6c98df07c"
      },
      "execution_count": null,
      "outputs": [
        {
          "output_type": "stream",
          "name": "stdout",
          "text": [
            "5==10: False\n",
            "5!=10:True\n",
            "5>10:False\n",
            "5<10:True\n",
            "5<=10:True\n",
            "5>=10:False\n"
          ]
        }
      ]
    },
    {
      "cell_type": "markdown",
      "source": [
        "string comparison"
      ],
      "metadata": {
        "id": "ZR5WCBPG5oNG"
      }
    },
    {
      "cell_type": "code",
      "source": [
        "name1 = \"alice\"\n",
        "name2 = \"bon\"\n",
        "print(f\"'{name1} '<'{name2}'\"{name1<name2}\")"
      ],
      "metadata": {
        "colab": {
          "base_uri": "https://localhost:8080/",
          "height": 106
        },
        "id": "jJaTSqDF5shG",
        "outputId": "d48d9aae-f61a-4144-9d8d-40078fd09a9c"
      },
      "execution_count": null,
      "outputs": [
        {
          "output_type": "error",
          "ename": "SyntaxError",
          "evalue": "unterminated string literal (detected at line 3) (ipython-input-3540862127.py, line 3)",
          "traceback": [
            "\u001b[0;36m  File \u001b[0;32m\"/tmp/ipython-input-3540862127.py\"\u001b[0;36m, line \u001b[0;32m3\u001b[0m\n\u001b[0;31m    print(f\"'{name1} '<'{name2}'\"{name1<name2}\")\u001b[0m\n\u001b[0m                                              ^\u001b[0m\n\u001b[0;31mSyntaxError\u001b[0m\u001b[0;31m:\u001b[0m unterminated string literal (detected at line 3)\n"
          ]
        }
      ]
    },
    {
      "cell_type": "markdown",
      "source": [
        "logical operator"
      ],
      "metadata": {
        "id": "GNZX7x_06P2n"
      }
    },
    {
      "cell_type": "code",
      "source": [
        "p=True\n",
        "q=False\n",
        "\n",
        "print(f\"p and q:{p and q}\")\n",
        "print(f\"p or q:{p or q}\")\n",
        "print(f\" not p :{not p}\")\n"
      ],
      "metadata": {
        "id": "bFwMJym-6T7W",
        "colab": {
          "base_uri": "https://localhost:8080/"
        },
        "outputId": "ccdd45ad-377e-4249-cc53-de153e35ac26"
      },
      "execution_count": null,
      "outputs": [
        {
          "output_type": "stream",
          "name": "stdout",
          "text": [
            "p and q:False\n",
            "p or q:True\n",
            " not p :False\n"
          ]
        }
      ]
    },
    {
      "cell_type": "markdown",
      "source": [
        "practical examples"
      ],
      "metadata": {
        "id": "_mDIn0tQsHrg"
      }
    },
    {
      "cell_type": "code",
      "source": [
        "age=20\n",
        "has_licence=True\n",
        "can_drive=age >= 18 and has_licence\n",
        "print(f\"can drive: {can_drive}\")"
      ],
      "metadata": {
        "colab": {
          "base_uri": "https://localhost:8080/"
        },
        "id": "Z68sEMugsKco",
        "outputId": "f1d10812-5273-41c0-d7ec-71d8a4cd0b2e"
      },
      "execution_count": null,
      "outputs": [
        {
          "output_type": "stream",
          "name": "stdout",
          "text": [
            "can drive: True\n"
          ]
        }
      ]
    },
    {
      "cell_type": "markdown",
      "source": [
        "multiple conditions"
      ],
      "metadata": {
        "id": "4jGLhlPVtMXA"
      }
    },
    {
      "cell_type": "code",
      "source": [
        "score=89\n",
        "is_present=True\n",
        "can_pass=score >=80 and is_present\n",
        "print(f\" can_pass:{can_pass}\")"
      ],
      "metadata": {
        "colab": {
          "base_uri": "https://localhost:8080/"
        },
        "id": "R2YC8wVrtPfY",
        "outputId": "176b535c-507f-4f88-968c-724d1b6041e7"
      },
      "execution_count": null,
      "outputs": [
        {
          "output_type": "stream",
          "name": "stdout",
          "text": [
            " can_pass:True\n"
          ]
        }
      ]
    },
    {
      "cell_type": "markdown",
      "source": [
        "hands on exercise"
      ],
      "metadata": {
        "id": "wBzCx9VHtpVY"
      }
    },
    {
      "cell_type": "code",
      "source": [],
      "metadata": {
        "id": "z_I2_6KKt5yw"
      },
      "execution_count": null,
      "outputs": []
    },
    {
      "cell_type": "code",
      "source": [
        "create a calculator that checks if a person qualifies for a loan"
      ],
      "metadata": {
        "id": "n0b7Yledtsm4"
      },
      "execution_count": null,
      "outputs": []
    },
    {
      "cell_type": "code",
      "source": [
        "age=25\n",
        "annual_income=50000\n",
        "credit_score=720\n",
        "has_collateral=True"
      ],
      "metadata": {
        "id": "OVYD1Afyt6dJ"
      },
      "execution_count": null,
      "outputs": []
    },
    {
      "cell_type": "markdown",
      "source": [
        "loan criteria"
      ],
      "metadata": {
        "id": "OY78PhnouLxI"
      }
    },
    {
      "cell_type": "code",
      "source": [
        "mi_age=18\n",
        "min_income=3000\n",
        "min_credit_score=650"
      ],
      "metadata": {
        "id": "Uj0XhffouOSg"
      },
      "execution_count": null,
      "outputs": []
    },
    {
      "cell_type": "markdown",
      "source": [
        "check qualifications"
      ],
      "metadata": {
        "id": "MtyzCpHvuyLh"
      }
    },
    {
      "cell_type": "code",
      "source": [
        "age_qualified=age>=min_age\n",
        "income_qualified=annual_income>=min_income\n",
        "credit_qualified=credit_score>=min_credit_score\n",
        "overall_qualified=age_qualified and income_qualified and credit_qualified"
      ],
      "metadata": {
        "colab": {
          "base_uri": "https://localhost:8080/",
          "height": 193
        },
        "id": "6sWZHlz8u1Oo",
        "outputId": "bf8b86ce-6993-493a-a18b-fd22da1371c6"
      },
      "execution_count": null,
      "outputs": [
        {
          "output_type": "error",
          "ename": "NameError",
          "evalue": "name 'min_age' is not defined",
          "traceback": [
            "\u001b[0;31m---------------------------------------------------------------------------\u001b[0m",
            "\u001b[0;31mNameError\u001b[0m                                 Traceback (most recent call last)",
            "\u001b[0;32m/tmp/ipython-input-2974434853.py\u001b[0m in \u001b[0;36m<cell line: 0>\u001b[0;34m()\u001b[0m\n\u001b[0;32m----> 1\u001b[0;31m \u001b[0mage_qualified\u001b[0m\u001b[0;34m=\u001b[0m\u001b[0mage\u001b[0m\u001b[0;34m>=\u001b[0m\u001b[0mmin_age\u001b[0m\u001b[0;34m\u001b[0m\u001b[0;34m\u001b[0m\u001b[0m\n\u001b[0m\u001b[1;32m      2\u001b[0m \u001b[0mincome_qualified\u001b[0m\u001b[0;34m=\u001b[0m\u001b[0mannual_income\u001b[0m\u001b[0;34m>=\u001b[0m\u001b[0mmin_income\u001b[0m\u001b[0;34m\u001b[0m\u001b[0;34m\u001b[0m\u001b[0m\n\u001b[1;32m      3\u001b[0m \u001b[0mcredit_qualified\u001b[0m\u001b[0;34m=\u001b[0m\u001b[0mcredit_score\u001b[0m\u001b[0;34m>=\u001b[0m\u001b[0mmin_credit_score\u001b[0m\u001b[0;34m\u001b[0m\u001b[0;34m\u001b[0m\u001b[0m\n\u001b[1;32m      4\u001b[0m \u001b[0moverall_qualified\u001b[0m\u001b[0;34m=\u001b[0m\u001b[0mage_qualified\u001b[0m \u001b[0;32mand\u001b[0m \u001b[0mincome_qualified\u001b[0m \u001b[0;32mand\u001b[0m \u001b[0mcredit_qualified\u001b[0m\u001b[0;34m\u001b[0m\u001b[0;34m\u001b[0m\u001b[0m\n",
            "\u001b[0;31mNameError\u001b[0m: name 'min_age' is not defined"
          ]
        }
      ]
    },
    {
      "cell_type": "markdown",
      "source": [
        "Data structure"
      ],
      "metadata": {
        "id": "XoQyWDnrv3Xh"
      }
    },
    {
      "cell_type": "markdown",
      "source": [
        "creating list"
      ],
      "metadata": {
        "id": "c1smNHzowA8p"
      }
    },
    {
      "cell_type": "code",
      "source": [
        "fruits=[\"apple\",\"banana\",\"orange\",\"grapes\"]\n",
        "numbers=[10,20,30,40,50]\n",
        "mixed_data=[1,\"hello\",3,14,True]"
      ],
      "metadata": {
        "id": "8G07o1dXwD2w"
      },
      "execution_count": null,
      "outputs": []
    },
    {
      "cell_type": "code",
      "source": [],
      "metadata": {
        "id": "9B8oYuHjwAWw"
      },
      "execution_count": null,
      "outputs": []
    },
    {
      "cell_type": "markdown",
      "source": [
        "list indexing(0-based)"
      ],
      "metadata": {
        "id": "_A64vrxYwbDx"
      }
    },
    {
      "cell_type": "code",
      "source": [
        "\n",
        "print(f\"first fruits:{fruits[0]}\")\n",
        "print(f\"last fruits:{fruits[0]}\")\n",
        "print(f\"second to last:{fruits[-2]}\")"
      ],
      "metadata": {
        "colab": {
          "base_uri": "https://localhost:8080/"
        },
        "id": "LY4JbKcnwfy5",
        "outputId": "cbff8a59-73da-4393-d732-fb3639fa01c9"
      },
      "execution_count": null,
      "outputs": [
        {
          "output_type": "stream",
          "name": "stdout",
          "text": [
            "first fruits:apple\n",
            "last fruits:apple\n",
            "second to last:orange\n"
          ]
        }
      ]
    },
    {
      "cell_type": "markdown",
      "source": [
        "list slicing"
      ],
      "metadata": {
        "id": "oyOo3xVaw5rB"
      }
    },
    {
      "cell_type": "code",
      "source": [
        "print(f\"first 2 fruits:{fruits[0:2]}\")\n",
        "print(f\"last 2 fruits:{fruits[-2]}\")\n",
        "print(f\"all except first:{fruits[1:1]}\")"
      ],
      "metadata": {
        "colab": {
          "base_uri": "https://localhost:8080/"
        },
        "id": "ImNLYShHw-GB",
        "outputId": "647f5958-000d-46c7-9272-380d460eeb06"
      },
      "execution_count": null,
      "outputs": [
        {
          "output_type": "stream",
          "name": "stdout",
          "text": [
            "first 2 fruits:['apple', 'banana']\n",
            "last 2 fruits:orange\n",
            "all except first:[]\n"
          ]
        }
      ]
    },
    {
      "cell_type": "markdown",
      "source": [
        "# list methods"
      ],
      "metadata": {
        "id": "sXwqDi9j85n3"
      }
    },
    {
      "cell_type": "code",
      "source": [
        "fruits.append(\"Kiwi\")\n",
        "fruits.insert(1,\"Strawberry\")\n",
        "removed=fruits.pop()\n",
        "print(f\"updated list:{fruits}\")\n",
        "print(f\"removed: {removed}\")"
      ],
      "metadata": {
        "colab": {
          "base_uri": "https://localhost:8080/"
        },
        "id": "59Q-SD4E89hf",
        "outputId": "096fd495-7086-4a5b-c3ca-54a409a9f2b7"
      },
      "execution_count": null,
      "outputs": [
        {
          "output_type": "stream",
          "name": "stdout",
          "text": [
            "updated list:['apple', 'Strawberry', 'banana', 'orange', 'grapes']\n",
            "removed: Kiwi\n"
          ]
        }
      ]
    },
    {
      "cell_type": "markdown",
      "source": [
        "# list operations"
      ],
      "metadata": {
        "id": "UOkqDqsk9pE4"
      }
    },
    {
      "cell_type": "code",
      "source": [
        "print(f\"length:{len(fruits)}\")\n",
        "print(f\"contains 'apple':{'apple in fruits'}\")\n",
        "print(f\"index of 'banana':{fruits.index('banana')}\")"
      ],
      "metadata": {
        "colab": {
          "base_uri": "https://localhost:8080/"
        },
        "id": "NLch9Fnd9vdn",
        "outputId": "3d929839-e068-4fa4-d700-37f4dc14128f"
      },
      "execution_count": null,
      "outputs": [
        {
          "output_type": "stream",
          "name": "stdout",
          "text": [
            "length:5\n",
            "contains 'apple':apple in fruits\n",
            "index of 'banana':2\n"
          ]
        }
      ]
    },
    {
      "cell_type": "markdown",
      "source": [],
      "metadata": {
        "id": "FR_0rbia9ccH"
      }
    },
    {
      "cell_type": "markdown",
      "source": [
        "# Tuples"
      ],
      "metadata": {
        "id": "LxMHJv6P-LZJ"
      }
    },
    {
      "cell_type": "markdown",
      "source": [
        "Tuples are immutable"
      ],
      "metadata": {
        "id": "cr811QTR-ViI"
      }
    },
    {
      "cell_type": "code",
      "source": [
        "coordinates=(10,20)\n",
        "rgb_color=(255,120,0)\n",
        "person_info=(\"alice\",25,\"engineer\",True)"
      ],
      "metadata": {
        "id": "I56dzkQ1-ZBH"
      },
      "execution_count": null,
      "outputs": []
    },
    {
      "cell_type": "code",
      "source": [],
      "metadata": {
        "id": "OZLKQ__4-TsH"
      },
      "execution_count": null,
      "outputs": []
    },
    {
      "cell_type": "markdown",
      "source": [
        "Tuple unpacking"
      ],
      "metadata": {
        "id": "m88W_4fM-q3o"
      }
    },
    {
      "cell_type": "code",
      "source": [
        "x,y=coordinates\n",
        "print(f\"x:{x},y:{y}\")"
      ],
      "metadata": {
        "colab": {
          "base_uri": "https://localhost:8080/"
        },
        "id": "d4oM3mYP-tfH",
        "outputId": "7aeed9bf-0340-4ff8-db3d-75521119098c"
      },
      "execution_count": null,
      "outputs": [
        {
          "output_type": "stream",
          "name": "stdout",
          "text": [
            "x:10,y:20\n"
          ]
        }
      ]
    },
    {
      "cell_type": "markdown",
      "source": [
        "# Tuple methods"
      ],
      "metadata": {
        "id": "NcNbd0Jt-78f"
      }
    },
    {
      "cell_type": "code",
      "source": [
        "print(f\"count of 25:{person_info.count(25)}\")\n",
        "print(f\"index of 'engineer' :{person_info.index('engineer')}\")"
      ],
      "metadata": {
        "colab": {
          "base_uri": "https://localhost:8080/"
        },
        "id": "GXPIV3kK-_nf",
        "outputId": "2e691a0e-1eee-45c2-e10c-a7712e95fa1e"
      },
      "execution_count": null,
      "outputs": [
        {
          "output_type": "stream",
          "name": "stdout",
          "text": [
            "count of 25:1\n",
            "index of 'engineer' :2\n"
          ]
        }
      ]
    },
    {
      "cell_type": "markdown",
      "source": [
        "# why use Tuples"
      ],
      "metadata": {
        "id": "rXXsKj7l_X9o"
      }
    },
    {
      "cell_type": "markdown",
      "source": [
        "- immutable\n",
        "- slightly faster than list\n",
        "- good for fixed collections"
      ],
      "metadata": {
        "id": "Ji6yhbPG_d2A"
      }
    },
    {
      "cell_type": "markdown",
      "source": [
        "Dictionaries"
      ],
      "metadata": {
        "id": "bXtAElGC_uAg"
      }
    },
    {
      "cell_type": "code",
      "source": [
        "person ={\n",
        "    \"name\":\"alicejohnson\",\n",
        "    \"age\":20,\n",
        "    \"profession\":\"software engineer\",\n",
        "    \"salary\":75000,\n",
        "    \"skills\":{\"python\",\"javascript\",\"sql\"}\n",
        "\n",
        "}"
      ],
      "metadata": {
        "id": "lBohY2Vr_xa4"
      },
      "execution_count": null,
      "outputs": []
    },
    {
      "cell_type": "code",
      "source": [],
      "metadata": {
        "id": "Oj3bdJD4_ro_"
      },
      "execution_count": null,
      "outputs": []
    },
    {
      "cell_type": "code",
      "source": [],
      "metadata": {
        "id": "X8TAIrU9_a24"
      },
      "execution_count": null,
      "outputs": []
    }
  ]
}